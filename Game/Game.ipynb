{
 "cells": [
  {
   "cell_type": "code",
   "execution_count": null,
   "metadata": {},
   "outputs": [],
   "source": [
    "import json\n",
    "from Units import Player\n",
    "\n",
    "class Game:\n",
    "    def __init__(self):\n",
    "        self.player = Player(\"Player\")\n",
    "\n",
    "    def encounter_monster(self):\n",
    "        # (Simulate the battle or other relevant actions)\n",
    "        # Update the player's level based on the battle result\n",
    "        self.player.stamina -= 10\n",
    "\n",
    "    def save_game(self, filename=\"save.json\"):\n",
    "        save_data = {\n",
    "            \"player\": {\n",
    "                \"name\": self.player.name,\n",
    "                \"inventory\": self.player.inventory,\n",
    "                \"skills\": self.player.skills,\n",
    "                \"stamina\": self.player.stamina,\n",
    "                \"luck\": self.player.luck\n",
    "            },\n",
    "        }\n",
    "\n",
    "        with open(filename, \"w\") as file:\n",
    "            json.dump(save_data, file, indent=4)\n",
    "\n",
    "    def load_game(self, filename=\"save.json\"):\n",
    "        try:\n",
    "            with open(filename, \"r\") as file:\n",
    "                save_data = json.load(file)\n",
    "\n",
    "            player_data = save_data[\"player\"]\n",
    "            self.player = Player(player_data[\"name\"])\n",
    "            self.player.inventory = player_data[\"inventory\"]\n",
    "            self.player.skills = player_data[\"skills\"]\n",
    "            self.player.stamina = player_data[\"stamina\"]\n",
    "            self.player.luck = player_data[\"luck\"]\n",
    "\n",
    "            print(\"Game loaded successfully!\")\n",
    "        except FileNotFoundError:\n",
    "            print(\"No save file found.\")\n",
    "        except json.JSONDecodeError:\n",
    "            print(\"Error decoding the save file.\")\n",
    "\n",
    "# Create a game\n",
    "game_instance = Game()\n",
    "\n",
    "# Save the game\n",
    "game_instance.save_game()\n",
    "\n",
    "# Load the game\n",
    "game_instance.load_game()\n"
   ]
  }
 ],
 "metadata": {
  "kernelspec": {
   "display_name": "Python 3",
   "language": "python",
   "name": "python3"
  },
  "language_info": {
   "name": "python",
   "version": "3.12.2"
  }
 },
 "nbformat": 4,
 "nbformat_minor": 2
}
