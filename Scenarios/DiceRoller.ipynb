{
 "cells": [
  {
   "cell_type": "code",
   "execution_count": null,
   "metadata": {},
   "outputs": [],
   "source": [
    "import random\n",
    "from Units import Player"
   ]
  },
  {
   "cell_type": "code",
   "execution_count": null,
   "metadata": {},
   "outputs": [],
   "source": [
    "class DiceRoller:\n",
    "    def __init__(self):\n",
    "        pass\n",
    "    \n",
    "    def roll_dice_Player(num_dice, modifier=0):\n",
    "        roll_total = sum([random.randint(1, 6) for _ in range(num_dice)]) + modifier\n",
    "        return roll_total\n",
    "    \n",
    "    #Rolling dice for luck scenarios.\n",
    "    def roll_dice_Luck(player):\n",
    "        luck_roll = random.randint(2, 12)\n",
    "        if luck_roll <= player.luck:\n",
    "            player.luck -= 1 #decrease luck by 1\n",
    "            print(f\"You got lucky! Your luck is now {player.luck}\" )\n",
    "            return \"lucky!\" + player.luck\n",
    "        else:\n",
    "            player.luck -= 1 #decrease luck by 1\n",
    "            return \"unlucky!\"\n",
    "\n",
    "    player = Player(player.name)\n",
    "\n",
    "    def roll_dice_Battle(num_dice, skill):\n",
    "        roll_total = sum([random.randint(1, 6) for _ in range(num_dice)]) + skill #dont forget luck\n",
    "        return roll_total"
   ]
  }
 ],
 "metadata": {
  "kernelspec": {
   "display_name": "Python 3",
   "language": "python",
   "name": "python3"
  },
  "language_info": {
   "codemirror_mode": {
    "name": "ipython",
    "version": 3
   },
   "file_extension": ".py",
   "mimetype": "text/x-python",
   "name": "python",
   "nbconvert_exporter": "python",
   "pygments_lexer": "ipython3",
   "version": "3.12.2"
  }
 },
 "nbformat": 4,
 "nbformat_minor": 2
}
