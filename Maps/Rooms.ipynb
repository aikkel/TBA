{
 "cells": [
  {
   "cell_type": "code",
   "execution_count": null,
   "metadata": {},
   "outputs": [],
   "source": [
    "class Room:\n",
    "    def __init__(self, id, name, description, exits, items, event):\n",
    "        self.id = id                   # Room's ID, how it is called\n",
    "        self.name = name               # Room Name\n",
    "        self.description = description # Room's description\n",
    "        self.exits = exits             # Exit(s) from a room\n",
    "        self.items = items             # Item(s) found in a room\n",
    "        self.event = event             # Traps / teleport traps / enemies in a room\n",
    "\n",
    "    \n",
    "    def get_description(self):\n",
    "        description = self.description\n",
    "        if self.items:\n",
    "            description += \"\\n\\nYou see\" + \", \".join((self.items)) + \" here.\"\n",
    "        if self.exits:\n",
    "            description += \"\\n\\nYou can go\" + \", \".join(self.exits) + \".\"\n",
    "        return self.description\n",
    "\n",
    "    def add_exit(self, direction, room):\n",
    "        self.exits[direction] = room\n",
    "\n",
    "    def add_item(self, item):\n",
    "        self.items.append(item)\n",
    "\n",
    "    def remove_item(self, item):\n",
    "        if item in self.items:\n",
    "            self.items.remove(item)\n",
    "            return item\n",
    "    \n",
    "    def add_event(self, event):\n",
    "        self.event = event\n",
    "    \n",
    "    def remove_event(self, event):\n",
    "        if event == self.event:\n",
    "            self.event = None\n",
    "            return event\n",
    "    \n",
    "\n"
   ]
  },
  {
   "cell_type": "code",
   "execution_count": null,
   "metadata": {},
   "outputs": [],
   "source": [
    "kitchen = Room(\"Kitchen\", \"You are in a dimly lit kitchen. There is a table in the center.\")\n",
    "living_room = Room(\"Living Room\", \"You enter a spacious living room with a cozy fireplace.\")\n",
    "\n",
    "kitchen.add_exit(\"north\", living_room)\n",
    "living_room.add_exit(\"south\", kitchen)\n",
    "\n",
    "kitchen.add_item(\"knife\")\n",
    "kitchen.add_item(\"apple\")"
   ]
  },
  {
   "cell_type": "code",
   "execution_count": null,
   "metadata": {},
   "outputs": [],
   "source": []
  },
  {
   "cell_type": "code",
   "execution_count": null,
   "metadata": {},
   "outputs": [],
   "source": [
    "# TEST CODE\n",
    "\n",
    "class Event:\n",
    "    def __init__(self, eventType, eventID):\n",
    "        self.eventType = eventType  # Whether the event is a monster, a trap, or a teleport trap (0, 1, 2)\n",
    "        self.eventID = eventID      # Defines the event further\n",
    "\n",
    "    def processEvent(eventType, eventID): # TO BE EDITED WHEN RELEVANT STUFF IS MADE\n",
    "        if (eventType == 0):\n",
    "            pass # Run a monster encounter with ID = self.eventID\n",
    "        elif (eventType == 1):\n",
    "            pass # Run a trap event with ID = self.eventID\n",
    "        elif (eventType == 2):\n",
    "            pass # Run a teleport trap event with ID = self.eventID\n",
    "        else:\n",
    "            pass # idk something went wrong\n"
   ]
  }
 ],
 "metadata": {
  "language_info": {
   "name": "python"
  }
 },
 "nbformat": 4,
 "nbformat_minor": 2
}
